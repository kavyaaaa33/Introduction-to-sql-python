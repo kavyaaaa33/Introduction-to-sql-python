{
  "nbformat": 4,
  "nbformat_minor": 0,
  "metadata": {
    "colab": {
      "name": "sales.ipynb",
      "provenance": [],
      "authorship_tag": "ABX9TyMxz5lrXlXofK79Xd7gpX2W",
      "include_colab_link": true
    },
    "kernelspec": {
      "name": "python3",
      "display_name": "Python 3"
    },
    "language_info": {
      "name": "python"
    }
  },
  "cells": [
    {
      "cell_type": "markdown",
      "metadata": {
        "id": "view-in-github",
        "colab_type": "text"
      },
      "source": [
        "<a href=\"https://colab.research.google.com/github/kavyaaaa33/Introduction-to-sql-python/blob/main/sales.ipynb\" target=\"_parent\"><img src=\"https://colab.research.google.com/assets/colab-badge.svg\" alt=\"Open In Colab\"/></a>"
      ]
    },
    {
      "cell_type": "code",
      "execution_count": 3,
      "metadata": {
        "colab": {
          "base_uri": "https://localhost:8080/"
        },
        "id": "FKKgrJcnFCVo",
        "outputId": "31553c4f-bcc7-4305-ce4a-96ecb868a0d8"
      },
      "outputs": [
        {
          "output_type": "stream",
          "name": "stdout",
          "text": [
            "[('0',)]\n"
          ]
        }
      ],
      "source": [
        "import sqlite3\n",
        " \n",
        "conn = sqlite3.connect('/content/SalesDBNew.db')\n",
        "\n",
        " \n",
        "cursor = conn.cursor()\n",
        "cursor.execute (\"select min (unitprice) from Supermarket_sales\")\n",
        "print(cursor.fetchall())\n",
        "conn.commit()\n",
        "conn.close()\n",
        "\n",
        "\n",
        "conn.close()"
      ]
    },
    {
      "cell_type": "code",
      "source": [
        "import sqlite3\n",
        " \n",
        "conn = sqlite3.connect('/content/SalesDBNew.db')\n",
        "\n",
        " \n",
        "cursor = conn.cursor()\n",
        "cursor.execute (\"select max (unitprice) from Supermarket_sales\")\n",
        "print(cursor.fetchall())\n",
        "conn.commit()\n",
        "conn.close()\n",
        "\n",
        "\n",
        "conn.close()"
      ],
      "metadata": {
        "colab": {
          "base_uri": "https://localhost:8080/"
        },
        "id": "8q95ZK1PIu6j",
        "outputId": "317c4355-f088-4b52-8120-7b81e27ef0a4"
      },
      "execution_count": 4,
      "outputs": [
        {
          "output_type": "stream",
          "name": "stdout",
          "text": [
            "[('99',)]\n"
          ]
        }
      ]
    },
    {
      "cell_type": "code",
      "source": [
        "import sqlite3\n",
        " \n",
        "conn = sqlite3.connect('/content/SalesDBNew.db')\n",
        "\n",
        " \n",
        "cursor = conn.cursor()\n",
        "cursor.execute (\"select avg (unitprice) from Supermarket_sales\")\n",
        "print(cursor.fetchall())\n",
        "conn.commit()\n",
        "conn.close()\n",
        "\n",
        "\n",
        "conn.close()"
      ],
      "metadata": {
        "colab": {
          "base_uri": "https://localhost:8080/"
        },
        "id": "zvmf8tK9I7SV",
        "outputId": "c35eb9b8-4669-42a2-a522-da4c64038bbe"
      },
      "execution_count": 5,
      "outputs": [
        {
          "output_type": "stream",
          "name": "stdout",
          "text": [
            "[(49.099,)]\n"
          ]
        }
      ]
    },
    {
      "cell_type": "code",
      "source": [
        "import sqlite3\n",
        " \n",
        "conn = sqlite3.connect('/content/SalesDBNew.db')\n",
        "\n",
        " \n",
        "cursor = conn.cursor()\n",
        "cursor.execute (\"select min (quantity) from Supermarket_sales\")\n",
        "print(cursor.fetchall())\n",
        "conn.commit()\n",
        "conn.close()\n",
        "\n",
        "\n",
        "conn.close()"
      ],
      "metadata": {
        "colab": {
          "base_uri": "https://localhost:8080/"
        },
        "id": "5EQheMmAJHhH",
        "outputId": "f259db91-39f7-45c7-aad8-e95ac2bf7d4c"
      },
      "execution_count": 6,
      "outputs": [
        {
          "output_type": "stream",
          "name": "stdout",
          "text": [
            "[('1',)]\n"
          ]
        }
      ]
    },
    {
      "cell_type": "code",
      "source": [
        "import sqlite3\n",
        " \n",
        "conn = sqlite3.connect('/content/SalesDBNew.db')\n",
        "\n",
        " \n",
        "cursor = conn.cursor()\n",
        "cursor.execute (\"select max(quantity) from Supermarket_sales\")\n",
        "print(cursor.fetchall())\n",
        "conn.commit()\n",
        "conn.close()\n",
        "\n",
        "\n",
        "conn.close()"
      ],
      "metadata": {
        "colab": {
          "base_uri": "https://localhost:8080/"
        },
        "id": "KOKluIuTJNzf",
        "outputId": "6d33d994-5ceb-4092-d3f3-7d575267bfde"
      },
      "execution_count": 7,
      "outputs": [
        {
          "output_type": "stream",
          "name": "stdout",
          "text": [
            "[('9',)]\n"
          ]
        }
      ]
    },
    {
      "cell_type": "code",
      "source": [
        "import sqlite3\n",
        " \n",
        "conn = sqlite3.connect('/content/SalesDBNew.db')\n",
        "\n",
        " \n",
        "cursor = conn.cursor()\n",
        "cursor.execute (\"select avg(quantity) from Supermarket_sales\")\n",
        "print(cursor.fetchall())\n",
        "conn.commit()\n",
        "conn.close()\n",
        "\n",
        "\n",
        "conn.close()"
      ],
      "metadata": {
        "colab": {
          "base_uri": "https://localhost:8080/"
        },
        "id": "YzZMc26dJWGT",
        "outputId": "1a801474-adb6-411f-8945-bab707e9be7d"
      },
      "execution_count": 9,
      "outputs": [
        {
          "output_type": "stream",
          "name": "stdout",
          "text": [
            "[(5.51,)]\n"
          ]
        }
      ]
    },
    {
      "cell_type": "code",
      "source": [
        "import sqlite3\n",
        " \n",
        "conn = sqlite3.connect('/content/SalesDBNew.db')\n",
        "\n",
        " \n",
        "cursor = conn.cursor()\n",
        "cursor.execute (\"SELECT COUNT(*) FROM Supermarket_sales\")\n",
        "print(cursor.fetchall())\n",
        "conn.commit()\n",
        "conn.close()\n",
        "\n",
        "\n",
        "conn.close()"
      ],
      "metadata": {
        "colab": {
          "base_uri": "https://localhost:8080/"
        },
        "id": "cvIB_hSOKH_P",
        "outputId": "33ed53be-8bfe-44be-9526-bc73619e7479"
      },
      "execution_count": 11,
      "outputs": [
        {
          "output_type": "stream",
          "name": "stdout",
          "text": [
            "[(1000,)]\n"
          ]
        }
      ]
    },
    {
      "cell_type": "code",
      "source": [
        "import sqlite3\n",
        " \n",
        "conn = sqlite3.connect('/content/SalesDBNew.db')\n",
        "\n",
        " \n",
        "cursor = conn.cursor()\n",
        "cursor.execute (\"SELECT COUNT(*) FROM (SELECT AVG(Unitprice) FROM Supermarket_sales);\")\n",
        "print(cursor.fetchall())\n",
        "conn.commit()\n",
        "conn.close()\n",
        "\n",
        "\n",
        "conn.close()"
      ],
      "metadata": {
        "colab": {
          "base_uri": "https://localhost:8080/"
        },
        "id": "D7zHinR3KH3V",
        "outputId": "61139c91-ae83-47f3-dd33-81928cf19274"
      },
      "execution_count": 12,
      "outputs": [
        {
          "output_type": "stream",
          "name": "stdout",
          "text": [
            "[(1,)]\n"
          ]
        }
      ]
    },
    {
      "cell_type": "code",
      "source": [
        "import sqlite3\n",
        " \n",
        "conn = sqlite3.connect('/content/SalesDBNew.db')\n",
        "\n",
        " \n",
        "cursor = conn.cursor()\n",
        "cursor.execute (\"SELECT COUNT(*) FROM (SELECT AVG(Unitprice) FROM Supermarket_sales ORDER BY Unitprice);\")\n",
        "print(cursor.fetchall())\n",
        "conn.commit()\n",
        "conn.close()\n",
        "\n",
        "\n",
        "conn.close()"
      ],
      "metadata": {
        "colab": {
          "base_uri": "https://localhost:8080/"
        },
        "id": "V4yldd2UKmpp",
        "outputId": "72b360fc-8aa8-4a6a-cb7b-b9f15451f710"
      },
      "execution_count": 13,
      "outputs": [
        {
          "output_type": "stream",
          "name": "stdout",
          "text": [
            "[(1,)]\n"
          ]
        }
      ]
    }
  ]
}